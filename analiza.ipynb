{
 "cells": [
  {
   "cell_type": "code",
   "execution_count": 19,
   "metadata": {},
   "outputs": [],
   "source": [
    "import requests\n",
    "from bs4 import BeautifulSoup\n",
    "import pandas as pd"
   ]
  },
  {
   "cell_type": "code",
   "execution_count": 20,
   "metadata": {},
   "outputs": [],
   "source": [
    "headers = {\n",
    "  'User-Agent': 'Mozilla/5.0 (X11; Linux x86_64) AppleWebKit/537.36 (KHTML, like Gecko) Chrome/47.0.2526.106 Safari/537.36'\n",
    "}"
   ]
  },
  {
   "attachments": {},
   "cell_type": "markdown",
   "metadata": {},
   "source": [
    "Wyłuskanie interesujących z punktu analizy kolumn"
   ]
  },
  {
   "cell_type": "code",
   "execution_count": 21,
   "metadata": {},
   "outputs": [],
   "source": [
    "def get_number_of_pages(league,year):\n",
    "    page = f\"https://www.transfermarkt.pl/championship/toptransfers/wettbewerb/{league}/saison_id/{year}/land_id/alle/ausrichtung//spielerposition_id/alle/altersklasse//w_s//zuab/zu/art//plus/1/galerie/0/page/1\"\n",
    "    treeSoup = requests.get(page, headers=headers)\n",
    "    pageSoup = BeautifulSoup(treeSoup.content, 'html.parser')\n",
    "    size = pageSoup.find_all(\"li\", {\"class\": \"tm-pagination__list-item tm-pagination__list-item--icon-last-page\"})\n",
    "    size = str(size).split(\"(strona \")[1].split(\")\")[0]\n",
    "    return(int(size))    \n"
   ]
  },
  {
   "attachments": {},
   "cell_type": "markdown",
   "metadata": {},
   "source": [
    "Funkcja sprawadzajaca czy tag jest zgodny z wymaganiami"
   ]
  },
  {
   "cell_type": "code",
   "execution_count": 22,
   "metadata": {},
   "outputs": [],
   "source": [
    "def check_club(tag):\n",
    "    is_valid = False\n",
    "    if tag.has_attr('class') and 'tiny_wappen' in tag.attrs['class']:\n",
    "        is_valid = True\n",
    "    elif tag.has_attr('title'):\n",
    "        is_valid = tag.attrs['title'] == '\\xa0'\n",
    "\n",
    "    return is_valid\n"
   ]
  },
  {
   "cell_type": "code",
   "execution_count": 23,
   "metadata": {},
   "outputs": [],
   "source": [
    "def scrape_data(leagues : list(), years : list()):\n",
    "    club = [] #list of clubs which loan in\n",
    "    players = [] #name of player\n",
    "    values = [] #value in moment of transfer\n",
    "    for league in leagues:\n",
    "        print(league)\n",
    "        for year in years:\n",
    "            print(year)\n",
    "            size = get_number_of_pages(league,year)\n",
    "            for i in range(1,size+1):\n",
    "                page = f\"https://www.transfermarkt.pl/championship/toptransfers/wettbewerb/{league}/saison_id/{year}/land_id/alle/ausrichtung//spielerposition_id/alle/altersklasse//w_s//zuab/zu/art//plus/1/galerie/0/page/{i}\"\n",
    "                treeSoup = requests.get(page, headers=headers)\n",
    "                pageSoup = BeautifulSoup(treeSoup.content, 'html.parser')\n",
    "                players.extend(pageSoup.find_all(\"img\", {\"class\" : \"bilderrahmen-fixed lazy lazy\"}))\n",
    "                values.extend(pageSoup.find_all(\"td\", {\"class\": [\"rechts\", \"rechts bg_gruen_20\"]}))\n",
    "                club.extend(pageSoup.find_all(check_club))\n",
    "                print(i)\n",
    "    print(f\"Graczy: {len(players)}, Klubów: {len(club)}, Wartości: {len(values)}\")\n",
    "    return (players,club,values)"
   ]
  },
  {
   "attachments": {},
   "cell_type": "markdown",
   "metadata": {},
   "source": [
    "Wyłuskanie wartości z wierszy"
   ]
  },
  {
   "cell_type": "code",
   "execution_count": 24,
   "metadata": {},
   "outputs": [],
   "source": [
    "def get_loan_data(players, club, values):\n",
    "    players_list = []\n",
    "    club_list = []\n",
    "    values_list = []\n",
    "    price_list = []\n",
    "    for line in players:\n",
    "        players_list.append(str(line).split('\" class')[0].split('<img alt=\"')[1])\n",
    "    for i in range(1,len(club)+1,2):\n",
    "        club_list.append(str(club[i]).split('img alt=\"')[1].split('\" class')[0])\n",
    "    for i in range(0,len(values),2):\n",
    "        values_list.append(str(values[i]).split(\"</td>\")[0].split('\">')[1])\n",
    "        price_list.append(str(values[i+1]).split(\"</a>\")[0].split('\">')[2])\n",
    "    len(values_list)\n",
    "    df = pd.DataFrame({\"Player\" : players_list, \"Loaning club\" : club_list, \"Player value in moment of transfer\": values_list, \"Transfer cost\": price_list})\n",
    "    loan_df = df.loc[df['Transfer cost'] == \"Wypożyczenie\"]\n",
    "    return(loan_df)"
   ]
  },
  {
   "attachments": {},
   "cell_type": "markdown",
   "metadata": {},
   "source": [
    "Tabela danych do analizy"
   ]
  },
  {
   "cell_type": "code",
   "execution_count": 25,
   "metadata": {},
   "outputs": [
    {
     "name": "stdout",
     "output_type": "stream",
     "text": [
      "GB2\n",
      "2022\n",
      "1\n",
      "2\n",
      "3\n",
      "4\n",
      "5\n",
      "6\n",
      "7\n",
      "8\n",
      "9\n",
      "10\n",
      "11\n",
      "12\n",
      "13\n",
      "14\n",
      "2021\n",
      "1\n",
      "2\n",
      "3\n",
      "4\n",
      "5\n",
      "6\n",
      "7\n",
      "8\n",
      "9\n",
      "10\n",
      "11\n",
      "12\n",
      "13\n",
      "2020\n",
      "1\n",
      "2\n",
      "3\n",
      "4\n",
      "5\n",
      "6\n",
      "7\n",
      "8\n",
      "9\n",
      "10\n",
      "11\n",
      "12\n",
      "13\n",
      "Graczy: 963, Klubów: 1926, Wartości: 1926\n"
     ]
    },
    {
     "data": {
      "text/html": [
       "<div>\n",
       "<style scoped>\n",
       "    .dataframe tbody tr th:only-of-type {\n",
       "        vertical-align: middle;\n",
       "    }\n",
       "\n",
       "    .dataframe tbody tr th {\n",
       "        vertical-align: top;\n",
       "    }\n",
       "\n",
       "    .dataframe thead th {\n",
       "        text-align: right;\n",
       "    }\n",
       "</style>\n",
       "<table border=\"1\" class=\"dataframe\">\n",
       "  <thead>\n",
       "    <tr style=\"text-align: right;\">\n",
       "      <th></th>\n",
       "      <th>Player</th>\n",
       "      <th>Loaning club</th>\n",
       "      <th>Player value in moment of transfer</th>\n",
       "      <th>Transfer cost</th>\n",
       "    </tr>\n",
       "  </thead>\n",
       "  <tbody>\n",
       "    <tr>\n",
       "      <th>0</th>\n",
       "      <td>Amad Diallo</td>\n",
       "      <td>AFC Sunderland</td>\n",
       "      <td>15,00 mln €</td>\n",
       "      <td>Wypożyczenie</td>\n",
       "    </tr>\n",
       "    <tr>\n",
       "      <th>3</th>\n",
       "      <td>Marquinhos</td>\n",
       "      <td>Norwich City</td>\n",
       "      <td>10,00 mln €</td>\n",
       "      <td>Wypożyczenie</td>\n",
       "    </tr>\n",
       "    <tr>\n",
       "      <th>4</th>\n",
       "      <td>Alex Mowatt</td>\n",
       "      <td>FC Middlesbrough</td>\n",
       "      <td>10,00 mln €</td>\n",
       "      <td>Wypożyczenie</td>\n",
       "    </tr>\n",
       "    <tr>\n",
       "      <th>6</th>\n",
       "      <td>Cameron Archer</td>\n",
       "      <td>FC Middlesbrough</td>\n",
       "      <td>8,00 mln €</td>\n",
       "      <td>Wypożyczenie</td>\n",
       "    </tr>\n",
       "    <tr>\n",
       "      <th>7</th>\n",
       "      <td>Tyler Roberts</td>\n",
       "      <td>Queens Park Rangers</td>\n",
       "      <td>8,00 mln €</td>\n",
       "      <td>Wypożyczenie</td>\n",
       "    </tr>\n",
       "    <tr>\n",
       "      <th>...</th>\n",
       "      <td>...</td>\n",
       "      <td>...</td>\n",
       "      <td>...</td>\n",
       "      <td>...</td>\n",
       "    </tr>\n",
       "    <tr>\n",
       "      <th>909</th>\n",
       "      <td>Josh Knight</td>\n",
       "      <td>Wycombe Wanderers</td>\n",
       "      <td>-</td>\n",
       "      <td>Wypożyczenie</td>\n",
       "    </tr>\n",
       "    <tr>\n",
       "      <th>923</th>\n",
       "      <td>Sam Nombe</td>\n",
       "      <td>Luton Town</td>\n",
       "      <td>-</td>\n",
       "      <td>Wypożyczenie</td>\n",
       "    </tr>\n",
       "    <tr>\n",
       "      <th>939</th>\n",
       "      <td>Ryan Giles</td>\n",
       "      <td>Coventry City</td>\n",
       "      <td>-</td>\n",
       "      <td>Wypożyczenie</td>\n",
       "    </tr>\n",
       "    <tr>\n",
       "      <th>941</th>\n",
       "      <td>Ben Sheaf</td>\n",
       "      <td>Coventry City</td>\n",
       "      <td>-</td>\n",
       "      <td>Wypożyczenie</td>\n",
       "    </tr>\n",
       "    <tr>\n",
       "      <th>961</th>\n",
       "      <td>Rhys Norrington-Davies</td>\n",
       "      <td>Luton Town</td>\n",
       "      <td>-</td>\n",
       "      <td>Wypożyczenie</td>\n",
       "    </tr>\n",
       "  </tbody>\n",
       "</table>\n",
       "<p>328 rows × 4 columns</p>\n",
       "</div>"
      ],
      "text/plain": [
       "                     Player         Loaning club  \\\n",
       "0               Amad Diallo       AFC Sunderland   \n",
       "3                Marquinhos         Norwich City   \n",
       "4               Alex Mowatt     FC Middlesbrough   \n",
       "6            Cameron Archer     FC Middlesbrough   \n",
       "7             Tyler Roberts  Queens Park Rangers   \n",
       "..                      ...                  ...   \n",
       "909             Josh Knight    Wycombe Wanderers   \n",
       "923               Sam Nombe           Luton Town   \n",
       "939              Ryan Giles        Coventry City   \n",
       "941               Ben Sheaf        Coventry City   \n",
       "961  Rhys Norrington-Davies           Luton Town   \n",
       "\n",
       "    Player value in moment of transfer Transfer cost  \n",
       "0                          15,00 mln €  Wypożyczenie  \n",
       "3                          10,00 mln €  Wypożyczenie  \n",
       "4                          10,00 mln €  Wypożyczenie  \n",
       "6                           8,00 mln €  Wypożyczenie  \n",
       "7                           8,00 mln €  Wypożyczenie  \n",
       "..                                 ...           ...  \n",
       "909                                  -  Wypożyczenie  \n",
       "923                                  -  Wypożyczenie  \n",
       "939                                  -  Wypożyczenie  \n",
       "941                                  -  Wypożyczenie  \n",
       "961                                  -  Wypożyczenie  \n",
       "\n",
       "[328 rows x 4 columns]"
      ]
     },
     "execution_count": 25,
     "metadata": {},
     "output_type": "execute_result"
    }
   ],
   "source": [
    "data = scrape_data([\"GB2\"],[\"2022\",\"2021\",\"2020\"])\n",
    "loan_df = get_loan_data(data[0],data[1],data[2])\n",
    "loan_df"
   ]
  },
  {
   "cell_type": "code",
   "execution_count": 26,
   "metadata": {},
   "outputs": [
    {
     "data": {
      "text/plain": [
       "'page = \"https://www.transfermarkt.pl/manchester-united/startseite/verein/985\"\\ntreeSoup = requests.get(page, headers=headers)\\npageSoup = BeautifulSoup(treeSoup.content, \\'html.parser\\')\\nprint(pageSoup)\\ngracze = []\\ngracze = pageSoup.find_all(\"img\", {\"class\": \"bilderrahmen-fixed lazy lazy\"})\\ngracze'"
      ]
     },
     "execution_count": 26,
     "metadata": {},
     "output_type": "execute_result"
    }
   ],
   "source": [
    "\"\"\"page = \"https://www.transfermarkt.pl/manchester-united/startseite/verein/985\"\n",
    "treeSoup = requests.get(page, headers=headers)\n",
    "pageSoup = BeautifulSoup(treeSoup.content, 'html.parser')\n",
    "print(pageSoup)\n",
    "gracze = []\n",
    "gracze = pageSoup.find_all(\"img\", {\"class\": \"bilderrahmen-fixed lazy lazy\"})\n",
    "gracze\"\"\""
   ]
  }
 ],
 "metadata": {
  "kernelspec": {
   "display_name": "Python 3.10.2 64-bit",
   "language": "python",
   "name": "python3"
  },
  "language_info": {
   "codemirror_mode": {
    "name": "ipython",
    "version": 3
   },
   "file_extension": ".py",
   "mimetype": "text/x-python",
   "name": "python",
   "nbconvert_exporter": "python",
   "pygments_lexer": "ipython3",
   "version": "3.10.2"
  },
  "orig_nbformat": 4,
  "vscode": {
   "interpreter": {
    "hash": "825ac9773807f9d9815422441db5d8f7e7454a884fe239917d2619c377c8c552"
   }
  }
 },
 "nbformat": 4,
 "nbformat_minor": 2
}
