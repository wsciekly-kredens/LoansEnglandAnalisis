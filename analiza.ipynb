{
 "cells": [
  {
   "cell_type": "code",
   "execution_count": 5,
   "metadata": {},
   "outputs": [],
   "source": [
    "import requests\n",
    "from bs4 import BeautifulSoup\n",
    "import pandas as pd"
   ]
  },
  {
   "cell_type": "code",
   "execution_count": 4,
   "metadata": {},
   "outputs": [],
   "source": [
    "headers = {\n",
    "  'User-Agent': 'Mozilla/5.0 (X11; Linux x86_64) AppleWebKit/537.36 (KHTML, like Gecko) Chrome/47.0.2526.106 Safari/537.36'\n",
    "}"
   ]
  },
  {
   "attachments": {},
   "cell_type": "markdown",
   "metadata": {},
   "source": [
    "Wyłuskanie interesujących z punktu analizy kolumn"
   ]
  },
  {
   "cell_type": "code",
   "execution_count": 3,
   "metadata": {},
   "outputs": [],
   "source": [
    "def get_number_of_pages(league,year):\n",
    "    page = f\"https://www.transfermarkt.pl/championship/toptransfers/wettbewerb/{league}/saison_id/{year}/land_id/alle/ausrichtung//spielerposition_id/alle/altersklasse//w_s//zuab/zu/art//plus/1/galerie/0/page/1\"\n",
    "    treeSoup = requests.get(page, headers=headers)\n",
    "    pageSoup = BeautifulSoup(treeSoup.content, 'html.parser')\n",
    "    size = pageSoup.find_all(\"li\", {\"class\": \"tm-pagination__list-item tm-pagination__list-item--icon-last-page\"})\n",
    "    size = str(size).split(\"(strona \")[1].split(\")\")[0]\n",
    "    return(int(size))    \n"
   ]
  },
  {
   "attachments": {},
   "cell_type": "markdown",
   "metadata": {},
   "source": [
    "Funkcja sprawadzajaca czy tag jest zgodny z wymaganiami"
   ]
  },
  {
   "cell_type": "code",
   "execution_count": 37,
   "metadata": {},
   "outputs": [],
   "source": [
    "def check_club(tag):\n",
    "    is_valid = False\n",
    "    if tag.has_attr('class') and 'tiny_wappen' in tag.attrs['class']:\n",
    "        is_valid = True\n",
    "    elif tag.has_attr('title'):\n",
    "        is_valid = tag.attrs['title'] == '\\xa0'\n",
    "\n",
    "    return is_valid\n"
   ]
  },
  {
   "cell_type": "code",
   "execution_count": 35,
   "metadata": {},
   "outputs": [],
   "source": [
    "def scrape_data(leagues : list(), years : list()) -> tuple():\n",
    "    club = [] #list of clubs which loan in\n",
    "    players = [] #name of player\n",
    "    values = [] #value in moment of transfer\n",
    "    loan_year = []\n",
    "    loan_league = []\n",
    "    players_number = 0\n",
    "    for year in years:\n",
    "        print(year)\n",
    "        for league in leagues:\n",
    "            print(league)\n",
    "            size = get_number_of_pages(league,year)\n",
    "            for i in range(1,size+1):\n",
    "                page = f\"https://www.transfermarkt.pl/championship/toptransfers/wettbewerb/{league}/saison_id/{year}/land_id/alle/ausrichtung//spielerposition_id/alle/altersklasse//w_s//zuab/zu/art//plus/1/galerie/0/page/{i}\"\n",
    "                treeSoup = requests.get(page, headers=headers)\n",
    "                pageSoup = BeautifulSoup(treeSoup.content, 'html.parser')\n",
    "                players.extend(pageSoup.find_all(\"img\", {\"class\" : \"bilderrahmen-fixed lazy lazy\"}))\n",
    "                values.extend(pageSoup.find_all(\"td\", {\"class\": [\"rechts\", \"rechts bg_gruen_20\"]}))\n",
    "                club.extend(pageSoup.find_all(check_club))\n",
    "                loan_year.extend(year for i in range(len(players)- players_number))\n",
    "                loan_league.extend(league for i in range(len(players)- players_number))# może można jednym forem\n",
    "                players_number = len(players)\n",
    "                print(i)\n",
    "    print(f\"Graczy: {len(players)}, Klubów: {len(club)}, Wartości: {len(values)}\")\n",
    "    return (players,club,values,loan_league,loan_year)"
   ]
  },
  {
   "cell_type": "markdown",
   "source": [
    "Scrapowanie danych o obecnej wartości"
   ],
   "metadata": {
    "collapsed": false
   }
  },
  {
   "cell_type": "code",
   "execution_count": 22,
   "outputs": [],
   "source": [
    "def scrape_current_value_data(leagues: list(), years: list()) -> tuple():\n",
    "    players = []\n",
    "    price = []\n",
    "    for year in years:\n",
    "        print(year)\n",
    "        for league in leagues:\n",
    "            print(league)\n",
    "            page = f\"https://www.transfermarkt.pl/championship/transfers/wettbewerb/{league}/plus/?saison_id={year}&s_w=&leihe=3&intern=0&intern=1\"\n",
    "            treeSoup = requests.get(page, headers=headers)\n",
    "            pageSoup = BeautifulSoup(treeSoup.content, 'html.parser')\n",
    "            players.extend(pageSoup.find_all(\"span\", {\"class\" : \"hide-for-small\"}))\n",
    "            price.extend(pageSoup.find_all(\"td\", {\"class\": [\"rechts\", \"rechts bg_blau_20\"]}))\n",
    "    print(f\"Graczy: {len(players)}, Wartości: {len(price)/2}\")\n",
    "    return (players,price)"
   ],
   "metadata": {
    "collapsed": false,
    "pycharm": {
     "name": "#%%\n"
    }
   }
  },
  {
   "attachments": {},
   "cell_type": "markdown",
   "metadata": {},
   "source": [
    "Wyłuskanie wartości z wierszy"
   ]
  },
  {
   "cell_type": "code",
   "execution_count": 32,
   "metadata": {},
   "outputs": [],
   "source": [
    "def get_loan_data(players, club, values,loan_league,loan_year):\n",
    "    players_list = []\n",
    "    club_list = []\n",
    "    values_list = []\n",
    "    price_list = []\n",
    "    for line in players:\n",
    "        players_list.append(str(line).split('\" class')[0].split('<img alt=\"')[1])\n",
    "    for i in range(1,len(club)+1,2):\n",
    "        club_list.append(str(club[i]).split('img alt=\"')[1].split('\" class')[0])\n",
    "    for i in range(0,len(values),2):\n",
    "        values_list.append(str(values[i]).split(\"</td>\")[0].split('\">')[1])\n",
    "        price_list.append(str(values[i+1]).split(\"</a>\")[0].split('\">')[2])\n",
    "    len(values_list)\n",
    "    df = pd.DataFrame({\"name\" : players_list, \"loaning_club\" : club_list, \"player_value_in_moment_of_transfer\": values_list, \"transfer_cost\": price_list, \"league\": loan_league, \"year\": loan_year})\n",
    "    loan_df = df.loc[df['transfer_cost'] == \"Wypożyczenie\"]\n",
    "    return(loan_df)"
   ]
  },
  {
   "cell_type": "markdown",
   "source": [
    "Wyłuskanie obecnych wartości"
   ],
   "metadata": {
    "collapsed": false
   }
  },
  {
   "cell_type": "code",
   "execution_count": 48,
   "outputs": [],
   "source": [
    "def get_current_values(players,price):\n",
    "    players_list = []\n",
    "    current_values_list = []\n",
    "    price_list = []\n",
    "    for line in players:\n",
    "        players_list.append(str(line).split('\">')[2].split('</a>')[0])\n",
    "    for i in range(0,len(price),2):\n",
    "        current_values_list.append(str(price[i]).split(\"</td>\")[0].split('\">')[1])\n",
    "        price_list.append(str(price[i+1]).split('\">')[2].split('<')[0])\n",
    "    df = pd.DataFrame({\"name\" : players_list, \"market_value_in_eur\" : current_values_list, \"transfer_cost\": price_list})\n",
    "    loan_df = df.loc[df['transfer_cost'] == \"Wypożyczenie\"]\n",
    "    loan_df = loan_df.iloc[:,0:2]\n",
    "    return loan_df"
   ],
   "metadata": {
    "collapsed": false,
    "pycharm": {
     "name": "#%%\n"
    }
   }
  },
  {
   "attachments": {},
   "cell_type": "markdown",
   "metadata": {},
   "source": [
    "Tabela danych do analizy"
   ]
  },
  {
   "cell_type": "code",
   "execution_count": 1,
   "outputs": [
    {
     "ename": "NameError",
     "evalue": "name 'scrape_data' is not defined",
     "output_type": "error",
     "traceback": [
      "\u001B[1;31m---------------------------------------------------------------------------\u001B[0m",
      "\u001B[1;31mNameError\u001B[0m                                 Traceback (most recent call last)",
      "Cell \u001B[1;32mIn [1], line 1\u001B[0m\n\u001B[1;32m----> 1\u001B[0m data \u001B[38;5;241m=\u001B[39m \u001B[43mscrape_data\u001B[49m([\u001B[38;5;124m\"\u001B[39m\u001B[38;5;124mGB2\u001B[39m\u001B[38;5;124m\"\u001B[39m,\u001B[38;5;124m\"\u001B[39m\u001B[38;5;124mGB3\u001B[39m\u001B[38;5;124m\"\u001B[39m,\u001B[38;5;124m\"\u001B[39m\u001B[38;5;124mGB4\u001B[39m\u001B[38;5;124m\"\u001B[39m],[\u001B[38;5;124m\"\u001B[39m\u001B[38;5;124m2022\u001B[39m\u001B[38;5;124m\"\u001B[39m,\u001B[38;5;124m\"\u001B[39m\u001B[38;5;124m2021\u001B[39m\u001B[38;5;124m\"\u001B[39m,\u001B[38;5;124m\"\u001B[39m\u001B[38;5;124m2020\u001B[39m\u001B[38;5;124m\"\u001B[39m,\u001B[38;5;124m\"\u001B[39m\u001B[38;5;124m2019\u001B[39m\u001B[38;5;124m\"\u001B[39m,\u001B[38;5;124m\"\u001B[39m\u001B[38;5;124m2018\u001B[39m\u001B[38;5;124m\"\u001B[39m])\n",
      "\u001B[1;31mNameError\u001B[0m: name 'scrape_data' is not defined"
     ]
    }
   ],
   "source": [
    "data = scrape_data([\"GB2\",\"GB3\",\"GB4\"],[\"2022\",\"2021\",\"2020\",\"2019\",\"2018\"])"
   ],
   "metadata": {
    "collapsed": false,
    "pycharm": {
     "name": "#%%\n"
    }
   }
  },
  {
   "cell_type": "code",
   "execution_count": 73,
   "outputs": [],
   "source": [
    "loan_df = get_loan_data(*data)"
   ],
   "metadata": {
    "collapsed": false,
    "pycharm": {
     "name": "#%%\n"
    }
   }
  },
  {
   "cell_type": "code",
   "execution_count": 75,
   "outputs": [
    {
     "name": "stdout",
     "output_type": "stream",
     "text": [
      "                  name         loaning_club  \\\n",
      "0          Amad Diallo       AFC Sunderland   \n",
      "3           Marquinhos         Norwich City   \n",
      "4          Alex Mowatt     FC Middlesbrough   \n",
      "6       Cameron Archer     FC Middlesbrough   \n",
      "7        Tyler Roberts  Queens Park Rangers   \n",
      "...                ...                  ...   \n",
      "6234       Callum Lang      Oldham Athletic   \n",
      "6235        Sam Stubbs         Notts County   \n",
      "6236   Nathan McGinley  Forest Green Rovers   \n",
      "6238   Timi Max Elsnik       Mansfield Town   \n",
      "6239  Oladapo Afolayan      Oldham Athletic   \n",
      "\n",
      "     player_value_in_moment_of_transfer transfer_cost league  year  \n",
      "0                           15,00 mln €  Wypożyczenie    GB2  2022  \n",
      "3                           10,00 mln €  Wypożyczenie    GB2  2022  \n",
      "4                           10,00 mln €  Wypożyczenie    GB2  2022  \n",
      "6                            8,00 mln €  Wypożyczenie    GB2  2022  \n",
      "7                            8,00 mln €  Wypożyczenie    GB2  2022  \n",
      "...                                 ...           ...    ...   ...  \n",
      "6234                                  -  Wypożyczenie    GB4  2018  \n",
      "6235                                  -  Wypożyczenie    GB4  2018  \n",
      "6236                                  -  Wypożyczenie    GB4  2018  \n",
      "6238                                  -  Wypożyczenie    GB4  2018  \n",
      "6239                                  -  Wypożyczenie    GB4  2018  \n",
      "\n",
      "[2115 rows x 6 columns]\n"
     ]
    }
   ],
   "source": [
    "from pathlib import Path\n",
    "filepath = Path(\"loans.csv\")\n",
    "print(loan_df)\n",
    "loan_df = loan_df.drop(columns=[\"transfer_cost\"])\n",
    "loan_df.to_csv(filepath, index = False)"
   ],
   "metadata": {
    "collapsed": false,
    "pycharm": {
     "name": "#%%\n"
    }
   }
  },
  {
   "cell_type": "markdown",
   "source": [
    "Creating Data Frame to analyze with current values"
   ],
   "metadata": {
    "collapsed": false
   }
  },
  {
   "cell_type": "code",
   "execution_count": null,
   "outputs": [],
   "source": [
    "players = pd.read_csv(\"players.csv\")\n",
    "players = players.loc[:, ['name','market_value_in_eur']]\n",
    "final_df = pd.merge(loan_df,players, on='name')\n",
    "final_df.to_csv(\"final_loans.csv\", index = False)\n",
    "final_df"
   ],
   "metadata": {
    "collapsed": false,
    "pycharm": {
     "name": "#%%\n"
    }
   }
  },
  {
   "cell_type": "code",
   "execution_count": 45,
   "outputs": [],
   "source": [
    "def parse_value(val):\n",
    "    if val == '-':\n",
    "        val = 0\n",
    "    else:\n",
    "        vals = val.split(\" \")\n",
    "        if vals[1] == 'mln':\n",
    "            val = int(vals[0].split(',')[0]) * 1000000\n",
    "        elif vals[1] == 'tys.':\n",
    "            val = int(vals[0]) * 1000\n",
    "    return val"
   ],
   "metadata": {
    "collapsed": false,
    "pycharm": {
     "name": "#%%\n"
    }
   }
  },
  {
   "cell_type": "code",
   "execution_count": 55,
   "outputs": [
    {
     "name": "stdout",
     "output_type": "stream",
     "text": [
      "2022\n",
      "GB2\n",
      "1\n",
      "2\n",
      "3\n",
      "4\n",
      "5\n",
      "6\n",
      "7\n",
      "8\n",
      "9\n",
      "10\n",
      "11\n",
      "12\n",
      "13\n",
      "14\n",
      "GB3\n",
      "1\n",
      "2\n",
      "3\n",
      "4\n",
      "5\n",
      "6\n",
      "7\n",
      "8\n",
      "9\n",
      "10\n",
      "11\n",
      "12\n",
      "13\n",
      "14\n",
      "15\n",
      "16\n",
      "GB4\n",
      "1\n",
      "2\n",
      "3\n",
      "4\n",
      "5\n",
      "6\n",
      "7\n",
      "8\n",
      "9\n",
      "10\n",
      "11\n",
      "12\n",
      "13\n",
      "14\n",
      "15\n",
      "16\n",
      "17\n",
      "18\n",
      "19\n",
      "20\n",
      "21\n",
      "2021\n",
      "GB2\n",
      "1\n",
      "2\n",
      "3\n",
      "4\n",
      "5\n",
      "6\n",
      "7\n",
      "8\n",
      "9\n",
      "10\n",
      "11\n",
      "12\n",
      "13\n",
      "GB3\n",
      "1\n",
      "2\n",
      "3\n",
      "4\n",
      "5\n",
      "6\n",
      "7\n",
      "8\n",
      "9\n",
      "10\n",
      "11\n",
      "12\n",
      "13\n",
      "14\n",
      "15\n",
      "16\n",
      "17\n",
      "18\n",
      "19\n",
      "GB4\n",
      "1\n",
      "2\n",
      "3\n",
      "4\n",
      "5\n",
      "6\n",
      "7\n",
      "8\n",
      "9\n",
      "10\n",
      "11\n",
      "12\n",
      "13\n",
      "14\n",
      "15\n",
      "16\n",
      "17\n",
      "18\n",
      "19\n",
      "2020\n",
      "GB2\n",
      "1\n",
      "2\n",
      "3\n",
      "4\n",
      "5\n",
      "6\n",
      "7\n",
      "8\n",
      "9\n",
      "10\n",
      "11\n",
      "12\n",
      "13\n",
      "GB3\n",
      "1\n",
      "2\n",
      "3\n",
      "4\n",
      "5\n",
      "6\n",
      "7\n",
      "8\n",
      "9\n",
      "10\n",
      "11\n",
      "12\n",
      "13\n",
      "14\n",
      "15\n",
      "16\n",
      "17\n",
      "18\n",
      "GB4\n",
      "1\n",
      "2\n",
      "3\n",
      "4\n",
      "5\n",
      "6\n",
      "7\n",
      "8\n",
      "9\n",
      "10\n",
      "11\n",
      "12\n",
      "13\n",
      "14\n",
      "15\n",
      "16\n",
      "17\n",
      "18\n",
      "19\n",
      "20\n",
      "2019\n",
      "GB2\n",
      "1\n",
      "2\n",
      "3\n",
      "4\n",
      "5\n",
      "6\n",
      "7\n",
      "8\n",
      "9\n",
      "10\n",
      "11\n",
      "12\n",
      "13\n",
      "14\n",
      "GB3\n",
      "1\n",
      "2\n",
      "3\n",
      "4\n",
      "5\n",
      "6\n",
      "7\n",
      "8\n",
      "9\n",
      "10\n",
      "11\n",
      "12\n",
      "13\n",
      "14\n",
      "15\n",
      "16\n",
      "17\n",
      "18\n",
      "GB4\n",
      "1\n",
      "2\n",
      "3\n",
      "4\n",
      "5\n",
      "6\n",
      "7\n",
      "8\n",
      "9\n",
      "10\n",
      "11\n",
      "12\n",
      "13\n",
      "14\n",
      "15\n",
      "16\n",
      "17\n",
      "18\n",
      "19\n",
      "20\n",
      "2018\n",
      "GB2\n",
      "1\n",
      "2\n",
      "3\n",
      "4\n",
      "5\n",
      "6\n",
      "7\n",
      "8\n",
      "9\n",
      "10\n",
      "11\n",
      "12\n",
      "13\n",
      "14\n",
      "GB3\n",
      "1\n",
      "2\n",
      "3\n",
      "4\n",
      "5\n",
      "6\n",
      "7\n",
      "8\n",
      "9\n",
      "10\n",
      "11\n",
      "12\n",
      "13\n",
      "14\n",
      "15\n",
      "16\n",
      "17\n",
      "18\n",
      "19\n",
      "GB4\n",
      "1\n",
      "2\n",
      "3\n",
      "4\n",
      "5\n",
      "6\n",
      "7\n",
      "8\n",
      "9\n",
      "10\n",
      "11\n",
      "12\n",
      "13\n",
      "14\n",
      "15\n",
      "16\n",
      "17\n",
      "18\n",
      "19\n",
      "20\n",
      "Graczy: 6259, Klubów: 12518, Wartości: 12518\n",
      "2022\n",
      "GB2\n",
      "GB3\n",
      "GB4\n",
      "2021\n",
      "GB2\n",
      "GB3\n",
      "GB4\n",
      "2020\n",
      "GB2\n",
      "GB3\n",
      "GB4\n",
      "2019\n",
      "GB2\n",
      "GB3\n",
      "GB4\n",
      "2018\n",
      "GB2\n",
      "GB3\n",
      "GB4\n",
      "Graczy: 15143, Wartości: 15143.0\n"
     ]
    }
   ],
   "source": [
    "# Teścisko\n",
    "loan_test = get_loan_data(*scrape_data([\"GB2\",\"GB3\",\"GB4\"],[\"2022\",\"2021\",\"2020\",\"2019\",\"2018\"]))\n",
    "val_test = get_current_values(*scrape_current_value_data([\"GB2\",\"GB3\",\"GB4\"],[\"2022\",\"2021\",\"2020\",\"2019\",\"2018\"]))\n",
    "final_test = pd.merge(loan_test,val_test, on=\"name\").drop_duplicates(keep='first')\n",
    "final_test['player_value_in_moment_of_transfer'] = final_test['player_value_in_moment_of_transfer'].apply(parse_value)\n",
    "final_test['market_value_in_eur'] = final_test['market_value_in_eur'].apply(parse_value)\n",
    "final_test['delta_value'] = final_test.apply(lambda x: x['market_value_in_eur'] - x['player_value_in_moment_of_transfer'], axis=1)\n",
    "final_test.to_csv(\"data.csv\",index=False)"
   ],
   "metadata": {
    "collapsed": false,
    "pycharm": {
     "name": "#%%\n"
    }
   }
  },
  {
   "cell_type": "code",
   "execution_count": 56,
   "outputs": [
    {
     "data": {
      "text/plain": "                 name         loaning_club  \\\n0         Amad Diallo       AFC Sunderland   \n1          Marquinhos         Norwich City   \n2         Alex Mowatt     FC Middlesbrough   \n4      Cameron Archer     FC Middlesbrough   \n6      Cameron Archer    Preston North End   \n...               ...                  ...   \n5997       Sam Stubbs         Notts County   \n5998  Nathan McGinley  Forest Green Rovers   \n6000         Ben Hall         Notts County   \n6001  Luke Woolfenden         Swindon Town   \n6003       Ben Morris  Forest Green Rovers   \n\n      player_value_in_moment_of_transfer transfer_cost league  year  \\\n0                               15000000  Wypożyczenie    GB2  2022   \n1                               10000000  Wypożyczenie    GB2  2022   \n2                               10000000  Wypożyczenie    GB2  2022   \n4                                8000000  Wypożyczenie    GB2  2022   \n6                                 500000  Wypożyczenie    GB2  2021   \n...                                  ...           ...    ...   ...   \n5997                                   0  Wypożyczenie    GB4  2018   \n5998                                   0  Wypożyczenie    GB4  2018   \n6000                                   0  Wypożyczenie    GB4  2018   \n6001                                   0  Wypożyczenie    GB4  2018   \n6003                                   0  Wypożyczenie    GB4  2018   \n\n      market_value_in_eur  delta_value  \n0                13000000     -2000000  \n1                12000000      2000000  \n2                 4000000     -6000000  \n4                10000000      2000000  \n6                10000000      9500000  \n...                   ...          ...  \n5997               250000       250000  \n5998               375000       375000  \n6000                50000        50000  \n6001               500000       500000  \n6003                    0            0  \n\n[2123 rows x 8 columns]",
      "text/html": "<div>\n<style scoped>\n    .dataframe tbody tr th:only-of-type {\n        vertical-align: middle;\n    }\n\n    .dataframe tbody tr th {\n        vertical-align: top;\n    }\n\n    .dataframe thead th {\n        text-align: right;\n    }\n</style>\n<table border=\"1\" class=\"dataframe\">\n  <thead>\n    <tr style=\"text-align: right;\">\n      <th></th>\n      <th>name</th>\n      <th>loaning_club</th>\n      <th>player_value_in_moment_of_transfer</th>\n      <th>transfer_cost</th>\n      <th>league</th>\n      <th>year</th>\n      <th>market_value_in_eur</th>\n      <th>delta_value</th>\n    </tr>\n  </thead>\n  <tbody>\n    <tr>\n      <th>0</th>\n      <td>Amad Diallo</td>\n      <td>AFC Sunderland</td>\n      <td>15000000</td>\n      <td>Wypożyczenie</td>\n      <td>GB2</td>\n      <td>2022</td>\n      <td>13000000</td>\n      <td>-2000000</td>\n    </tr>\n    <tr>\n      <th>1</th>\n      <td>Marquinhos</td>\n      <td>Norwich City</td>\n      <td>10000000</td>\n      <td>Wypożyczenie</td>\n      <td>GB2</td>\n      <td>2022</td>\n      <td>12000000</td>\n      <td>2000000</td>\n    </tr>\n    <tr>\n      <th>2</th>\n      <td>Alex Mowatt</td>\n      <td>FC Middlesbrough</td>\n      <td>10000000</td>\n      <td>Wypożyczenie</td>\n      <td>GB2</td>\n      <td>2022</td>\n      <td>4000000</td>\n      <td>-6000000</td>\n    </tr>\n    <tr>\n      <th>4</th>\n      <td>Cameron Archer</td>\n      <td>FC Middlesbrough</td>\n      <td>8000000</td>\n      <td>Wypożyczenie</td>\n      <td>GB2</td>\n      <td>2022</td>\n      <td>10000000</td>\n      <td>2000000</td>\n    </tr>\n    <tr>\n      <th>6</th>\n      <td>Cameron Archer</td>\n      <td>Preston North End</td>\n      <td>500000</td>\n      <td>Wypożyczenie</td>\n      <td>GB2</td>\n      <td>2021</td>\n      <td>10000000</td>\n      <td>9500000</td>\n    </tr>\n    <tr>\n      <th>...</th>\n      <td>...</td>\n      <td>...</td>\n      <td>...</td>\n      <td>...</td>\n      <td>...</td>\n      <td>...</td>\n      <td>...</td>\n      <td>...</td>\n    </tr>\n    <tr>\n      <th>5997</th>\n      <td>Sam Stubbs</td>\n      <td>Notts County</td>\n      <td>0</td>\n      <td>Wypożyczenie</td>\n      <td>GB4</td>\n      <td>2018</td>\n      <td>250000</td>\n      <td>250000</td>\n    </tr>\n    <tr>\n      <th>5998</th>\n      <td>Nathan McGinley</td>\n      <td>Forest Green Rovers</td>\n      <td>0</td>\n      <td>Wypożyczenie</td>\n      <td>GB4</td>\n      <td>2018</td>\n      <td>375000</td>\n      <td>375000</td>\n    </tr>\n    <tr>\n      <th>6000</th>\n      <td>Ben Hall</td>\n      <td>Notts County</td>\n      <td>0</td>\n      <td>Wypożyczenie</td>\n      <td>GB4</td>\n      <td>2018</td>\n      <td>50000</td>\n      <td>50000</td>\n    </tr>\n    <tr>\n      <th>6001</th>\n      <td>Luke Woolfenden</td>\n      <td>Swindon Town</td>\n      <td>0</td>\n      <td>Wypożyczenie</td>\n      <td>GB4</td>\n      <td>2018</td>\n      <td>500000</td>\n      <td>500000</td>\n    </tr>\n    <tr>\n      <th>6003</th>\n      <td>Ben Morris</td>\n      <td>Forest Green Rovers</td>\n      <td>0</td>\n      <td>Wypożyczenie</td>\n      <td>GB4</td>\n      <td>2018</td>\n      <td>0</td>\n      <td>0</td>\n    </tr>\n  </tbody>\n</table>\n<p>2123 rows × 8 columns</p>\n</div>"
     },
     "execution_count": 56,
     "metadata": {},
     "output_type": "execute_result"
    }
   ],
   "source": [
    "final_test"
   ],
   "metadata": {
    "collapsed": false,
    "pycharm": {
     "name": "#%%\n"
    }
   }
  },
  {
   "cell_type": "code",
   "execution_count": 33,
   "outputs": [
    {
     "ename": "NameError",
     "evalue": "name 'final_df' is not defined",
     "output_type": "error",
     "traceback": [
      "\u001B[1;31m---------------------------------------------------------------------------\u001B[0m",
      "\u001B[1;31mNameError\u001B[0m                                 Traceback (most recent call last)",
      "Cell \u001B[1;32mIn [33], line 1\u001B[0m\n\u001B[1;32m----> 1\u001B[0m final_df \u001B[38;5;241m=\u001B[39m \u001B[43mfinal_df\u001B[49m\u001B[38;5;241m.\u001B[39mdropna()\n\u001B[0;32m      2\u001B[0m final_df[\u001B[38;5;124m'\u001B[39m\u001B[38;5;124mplayer_value_in_moment_of_transfer\u001B[39m\u001B[38;5;124m'\u001B[39m] \u001B[38;5;241m=\u001B[39m final_df[\u001B[38;5;124m'\u001B[39m\u001B[38;5;124mplayer_value_in_moment_of_transfer\u001B[39m\u001B[38;5;124m'\u001B[39m]\u001B[38;5;241m.\u001B[39mapply(parse_value)\n",
      "\u001B[1;31mNameError\u001B[0m: name 'final_df' is not defined"
     ]
    }
   ],
   "source": [
    "final_df = final_df.dropna()\n",
    "final_df['player_value_in_moment_of_transfer'] = final_df['player_value_in_moment_of_transfer'].apply(parse_value)"
   ],
   "metadata": {
    "collapsed": false,
    "pycharm": {
     "name": "#%%\n"
    }
   }
  },
  {
   "cell_type": "code",
   "execution_count": 158,
   "outputs": [
    {
     "data": {
      "text/plain": "                 name         loaning_club  \\\n0         Amad Diallo       AFC Sunderland   \n1          Marquinhos         Norwich City   \n2      Cameron Archer     FC Middlesbrough   \n3      Cameron Archer    Preston North End   \n4       Tyler Roberts  Queens Park Rangers   \n...               ...                  ...   \n1283     Moses Makasi         FC Stevenage   \n1284   Bernard Mensah         Lincoln City   \n1285    Harry McKirdy       Newport County   \n1286       Sam Stubbs         Notts County   \n1287  Nathan McGinley  Forest Green Rovers   \n\n      player_value_in_moment_of_transfer league  year  market_value_in_eur  \n0                               15000000    GB2  2022            7000000.0  \n1                               10000000    GB2  2022           10000000.0  \n2                                8000000    GB2  2022            8000000.0  \n3                                 500000    GB2  2021            8000000.0  \n4                                8000000    GB2  2022            4000000.0  \n...                                  ...    ...   ...                  ...  \n1283                                   0    GB4  2018             200000.0  \n1284                                   0    GB4  2018            2500000.0  \n1285                                   0    GB4  2018             125000.0  \n1286                                   0    GB4  2018             250000.0  \n1287                                   0    GB4  2018             375000.0  \n\n[1159 rows x 6 columns]",
      "text/html": "<div>\n<style scoped>\n    .dataframe tbody tr th:only-of-type {\n        vertical-align: middle;\n    }\n\n    .dataframe tbody tr th {\n        vertical-align: top;\n    }\n\n    .dataframe thead th {\n        text-align: right;\n    }\n</style>\n<table border=\"1\" class=\"dataframe\">\n  <thead>\n    <tr style=\"text-align: right;\">\n      <th></th>\n      <th>name</th>\n      <th>loaning_club</th>\n      <th>player_value_in_moment_of_transfer</th>\n      <th>league</th>\n      <th>year</th>\n      <th>market_value_in_eur</th>\n    </tr>\n  </thead>\n  <tbody>\n    <tr>\n      <th>0</th>\n      <td>Amad Diallo</td>\n      <td>AFC Sunderland</td>\n      <td>15000000</td>\n      <td>GB2</td>\n      <td>2022</td>\n      <td>7000000.0</td>\n    </tr>\n    <tr>\n      <th>1</th>\n      <td>Marquinhos</td>\n      <td>Norwich City</td>\n      <td>10000000</td>\n      <td>GB2</td>\n      <td>2022</td>\n      <td>10000000.0</td>\n    </tr>\n    <tr>\n      <th>2</th>\n      <td>Cameron Archer</td>\n      <td>FC Middlesbrough</td>\n      <td>8000000</td>\n      <td>GB2</td>\n      <td>2022</td>\n      <td>8000000.0</td>\n    </tr>\n    <tr>\n      <th>3</th>\n      <td>Cameron Archer</td>\n      <td>Preston North End</td>\n      <td>500000</td>\n      <td>GB2</td>\n      <td>2021</td>\n      <td>8000000.0</td>\n    </tr>\n    <tr>\n      <th>4</th>\n      <td>Tyler Roberts</td>\n      <td>Queens Park Rangers</td>\n      <td>8000000</td>\n      <td>GB2</td>\n      <td>2022</td>\n      <td>4000000.0</td>\n    </tr>\n    <tr>\n      <th>...</th>\n      <td>...</td>\n      <td>...</td>\n      <td>...</td>\n      <td>...</td>\n      <td>...</td>\n      <td>...</td>\n    </tr>\n    <tr>\n      <th>1283</th>\n      <td>Moses Makasi</td>\n      <td>FC Stevenage</td>\n      <td>0</td>\n      <td>GB4</td>\n      <td>2018</td>\n      <td>200000.0</td>\n    </tr>\n    <tr>\n      <th>1284</th>\n      <td>Bernard Mensah</td>\n      <td>Lincoln City</td>\n      <td>0</td>\n      <td>GB4</td>\n      <td>2018</td>\n      <td>2500000.0</td>\n    </tr>\n    <tr>\n      <th>1285</th>\n      <td>Harry McKirdy</td>\n      <td>Newport County</td>\n      <td>0</td>\n      <td>GB4</td>\n      <td>2018</td>\n      <td>125000.0</td>\n    </tr>\n    <tr>\n      <th>1286</th>\n      <td>Sam Stubbs</td>\n      <td>Notts County</td>\n      <td>0</td>\n      <td>GB4</td>\n      <td>2018</td>\n      <td>250000.0</td>\n    </tr>\n    <tr>\n      <th>1287</th>\n      <td>Nathan McGinley</td>\n      <td>Forest Green Rovers</td>\n      <td>0</td>\n      <td>GB4</td>\n      <td>2018</td>\n      <td>375000.0</td>\n    </tr>\n  </tbody>\n</table>\n<p>1159 rows × 6 columns</p>\n</div>"
     },
     "execution_count": 158,
     "metadata": {},
     "output_type": "execute_result"
    }
   ],
   "source": [
    "final_df.loc[final_df['name'] =='Marquinhos', ['market_value_in_eur']] = 10000000"
   ],
   "metadata": {
    "collapsed": false,
    "pycharm": {
     "name": "#%%\n"
    }
   }
  },
  {
   "cell_type": "code",
   "execution_count": null,
   "outputs": [],
   "source": [
    "final_df['delta_value'] = final_df.apply(lambda x: x['market_value_in_eur'] - x['player_value_in_moment_of_transfer'], axis=1)\n",
    "final_df"
   ],
   "metadata": {
    "collapsed": false,
    "pycharm": {
     "name": "#%%\n",
     "is_executing": true
    }
   }
  },
  {
   "cell_type": "markdown",
   "source": [
    "Analyze"
   ],
   "metadata": {
    "collapsed": false
   }
  },
  {
   "cell_type": "code",
   "execution_count": null,
   "outputs": [],
   "source": [
    "import matplotlib.pyplot as plt\n",
    "import seaborn as sns\n",
    "\n",
    "# Unique loaning clubs\n",
    "unique_clubs = final_df['loaning_club'].unique()\n",
    "print(f\"In given period {len(unique_clubs)} clubs has loaned in player\")\n",
    "\n",
    "#Loans for every given club\n",
    "loans_number = final_df['loaning_club'].value_counts()\n",
    "plt.figure(figsize=(40,40), dpi = 80)\n",
    "plt.pie(loans_number, labels=loans_number.index)\n",
    "loans_number"
   ],
   "metadata": {
    "collapsed": false,
    "pycharm": {
     "name": "#%%\n",
     "is_executing": true
    }
   }
  },
  {
   "cell_type": "code",
   "execution_count": 63,
   "metadata": {},
   "outputs": [
    {
     "data": {
      "text/plain": "'page = \"https://www.transfermarkt.pl/manchester-united/startseite/verein/985\"\\ntreeSoup = requests.get(page, headers=headers)\\npageSoup = BeautifulSoup(treeSoup.content, \\'html.parser\\')\\nprint(pageSoup)\\ngracze = []\\ngracze = pageSoup.find_all(\"img\", {\"class\": \"bilderrahmen-fixed lazy lazy\"})\\ngracze'"
     },
     "execution_count": 63,
     "metadata": {},
     "output_type": "execute_result"
    }
   ],
   "source": [
    "\"\"\"page = \"https://www.transfermarkt.pl/manchester-united/startseite/verein/985\"\n",
    "treeSoup = requests.get(page, headers=headers)\n",
    "pageSoup = BeautifulSoup(treeSoup.content, 'html.parser')\n",
    "print(pageSoup)\n",
    "gracze = []\n",
    "gracze = pageSoup.find_all(\"img\", {\"class\": \"bilderrahmen-fixed lazy lazy\"})\n",
    "gracze\"\"\""
   ]
  }
 ],
 "metadata": {
  "kernelspec": {
   "display_name": "Python 3.10.2 64-bit",
   "language": "python",
   "name": "python3"
  },
  "language_info": {
   "codemirror_mode": {
    "name": "ipython",
    "version": 3
   },
   "file_extension": ".py",
   "mimetype": "text/x-python",
   "name": "python",
   "nbconvert_exporter": "python",
   "pygments_lexer": "ipython3",
   "version": "3.10.2"
  },
  "orig_nbformat": 4,
  "vscode": {
   "interpreter": {
    "hash": "825ac9773807f9d9815422441db5d8f7e7454a884fe239917d2619c377c8c552"
   }
  }
 },
 "nbformat": 4,
 "nbformat_minor": 2
}